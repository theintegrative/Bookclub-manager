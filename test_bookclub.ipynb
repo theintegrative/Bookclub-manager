{
 "cells": [
  {
   "cell_type": "code",
   "execution_count": 1,
   "id": "2430475b-af48-4417-a23f-0bb256f3ebe4",
   "metadata": {},
   "outputs": [],
   "source": [
    "import pytest"
   ]
  },
  {
   "cell_type": "code",
   "execution_count": 2,
   "id": "371b0d20-cb5c-45e6-84df-09662945d123",
   "metadata": {},
   "outputs": [],
   "source": [
    "# python files to test\n",
    "import bookclub_manager as bcm"
   ]
  },
  {
   "cell_type": "code",
   "execution_count": 3,
   "id": "e3be661a-d7aa-476d-b298-d54f0851aa21",
   "metadata": {},
   "outputs": [],
   "source": [
    "# testdata\n",
    "import testing_data as td"
   ]
  },
  {
   "cell_type": "code",
   "execution_count": 4,
   "id": "c8cf0946-2f66-42b0-92da-43c8f27f61cc",
   "metadata": {},
   "outputs": [],
   "source": [
    "@pytest.fixture\n",
    "def incomming():\n",
    "    yield bcm.Collection(\"incomming\")"
   ]
  },
  {
   "cell_type": "code",
   "execution_count": 5,
   "id": "f9557be2-bb59-424f-bb96-7b7e4a3535f3",
   "metadata": {},
   "outputs": [],
   "source": [
    "@pytest.fixture\n",
    "def potential():\n",
    "    yield bcm.Collection(\"potential\")"
   ]
  },
  {
   "cell_type": "code",
   "execution_count": 6,
   "id": "e37f8e48-6cad-4a3c-9049-3c01dc9a3802",
   "metadata": {},
   "outputs": [],
   "source": [
    "@pytest.fixture\n",
    "def buffer():\n",
    "    yield bcm.Collection(\"buffer\")"
   ]
  },
  {
   "cell_type": "code",
   "execution_count": 7,
   "id": "9791dbee-4142-4fdb-9e8b-ef7d77f637db",
   "metadata": {},
   "outputs": [],
   "source": [
    "@pytest.fixture\n",
    "def books_this_month():\n",
    "    yield td.generate_books(10, 1)"
   ]
  },
  {
   "cell_type": "code",
   "execution_count": 8,
   "id": "e08118b2-4ebd-4bfa-825f-edb0f3bd3f85",
   "metadata": {},
   "outputs": [],
   "source": [
    "@pytest.fixture\n",
    "def books_two_months():\n",
    "    yield td.generate_books(20, 2)"
   ]
  },
  {
   "cell_type": "code",
   "execution_count": 9,
   "id": "6ff1c8b6-c9e9-4c2c-b550-67aa159642b9",
   "metadata": {},
   "outputs": [],
   "source": [
    "#@pytest.fixture # this still needs to be created\n",
    "#def books_next_month():\n",
    "#    yield td.generate_books(10, 1)"
   ]
  },
  {
   "cell_type": "code",
   "execution_count": 10,
   "id": "9813e23b-86a8-4b7a-a52e-e93d17bfe22a",
   "metadata": {},
   "outputs": [],
   "source": [
    "@pytest.fixture\n",
    "def manager():\n",
    "    return bcm.Manager()"
   ]
  },
  {
   "cell_type": "code",
   "execution_count": 11,
   "id": "2b9857db-f6d4-4736-b557-ce92bb70d033",
   "metadata": {},
   "outputs": [],
   "source": [
    "@pytest.fixture\n",
    "def generate_votes_potential(potential):\n",
    "    for title in potential.find_all({}, find_titles, sort_books):\n",
    "        potential.add_votes(title[\"title\"], td.generate_title_votes(1))"
   ]
  },
  {
   "cell_type": "code",
   "execution_count": 12,
   "id": "79fa7b89-d86a-47ee-b934-de8bb8d70dd5",
   "metadata": {},
   "outputs": [],
   "source": [
    "@pytest.fixture\n",
    "def generate_votes_incomming(incomming):\n",
    "    for title in incomming.find_all({}, find_titles, sort_books):\n",
    "        incomming.add_votes(title[\"title\"], td.generate_title_votes(1))"
   ]
  },
  {
   "cell_type": "code",
   "execution_count": null,
   "id": "c3583711-a4e1-486d-b356-718a7391adc6",
   "metadata": {},
   "outputs": [],
   "source": []
  }
 ],
 "metadata": {
  "kernelspec": {
   "display_name": "Python 3 (ipykernel)",
   "language": "python",
   "name": "python3"
  },
  "language_info": {
   "codemirror_mode": {
    "name": "ipython",
    "version": 3
   },
   "file_extension": ".py",
   "mimetype": "text/x-python",
   "name": "python",
   "nbconvert_exporter": "python",
   "pygments_lexer": "ipython3",
   "version": "3.10.6"
  }
 },
 "nbformat": 4,
 "nbformat_minor": 5
}
