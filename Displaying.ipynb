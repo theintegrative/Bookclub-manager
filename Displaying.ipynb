{
 "cells": [
  {
   "cell_type": "code",
   "execution_count": 1,
   "id": "5b6d9a0b-477c-42af-b30f-3e7784af5fc4",
   "metadata": {},
   "outputs": [],
   "source": [
    "import bookclub_manager"
   ]
  },
  {
   "cell_type": "code",
   "execution_count": 2,
   "id": "ae1306ec-962d-4626-99d6-0c8b145d5ff5",
   "metadata": {},
   "outputs": [],
   "source": [
    "bookclub = bookclub_manager.Manager()"
   ]
  },
  {
   "cell_type": "code",
   "execution_count": 3,
   "id": "abe603ef-31e2-4ae5-b066-763c177d506f",
   "metadata": {},
   "outputs": [],
   "source": [
    "for x in bookclub.incomming.collection.find({}):\n",
    "    print(x)"
   ]
  },
  {
   "cell_type": "code",
   "execution_count": 4,
   "id": "106bf87f-369c-4a22-b37d-c79b52199ad0",
   "metadata": {},
   "outputs": [],
   "source": [
    "for x in bookclub.potential.collection.find({}):\n",
    "    print(x)"
   ]
  },
  {
   "cell_type": "code",
   "execution_count": 5,
   "id": "141fd4ee-a85c-4f4a-9864-c2dcc509339f",
   "metadata": {},
   "outputs": [],
   "source": [
    "for x in bookclub.buffer.collection.find({}):\n",
    "    print(x)"
   ]
  },
  {
   "cell_type": "code",
   "execution_count": 7,
   "id": "c1ad95a8-74e2-476b-abe0-2ec24c071dc8",
   "metadata": {},
   "outputs": [],
   "source": [
    "#bookclub.drop_all()"
   ]
  }
 ],
 "metadata": {
  "kernelspec": {
   "display_name": "Python 3 (ipykernel)",
   "language": "python",
   "name": "python3"
  },
  "language_info": {
   "codemirror_mode": {
    "name": "ipython",
    "version": 3
   },
   "file_extension": ".py",
   "mimetype": "text/x-python",
   "name": "python",
   "nbconvert_exporter": "python",
   "pygments_lexer": "ipython3",
   "version": "3.10.6"
  }
 },
 "nbformat": 4,
 "nbformat_minor": 5
}
