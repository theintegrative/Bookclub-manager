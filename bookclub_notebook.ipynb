{
 "cells": [
  {
   "cell_type": "code",
   "execution_count": 16,
   "id": "886d11d8-ab2c-4413-9fa2-a4303e0a7c71",
   "metadata": {},
   "outputs": [],
   "source": [
    "import pandas as pd\n",
    "import numpy as np\n",
    "import pymongo\n",
    "from pprint import pprint\n",
    "import testing_data as td"
   ]
  },
  {
   "cell_type": "code",
   "execution_count": 17,
   "id": "270c2966-cf3a-4944-8ea6-8a9ae7fec319",
   "metadata": {},
   "outputs": [],
   "source": [
    "def first_day():\n",
    "    now = pd.Timestamp.now() - pd.offsets.MonthBegin(1)\n",
    "    return now.strftime('%Y-%m-%d')"
   ]
  },
  {
   "cell_type": "code",
   "execution_count": 18,
   "id": "32a2a257-1b7f-4a66-ad47-6290674ee3bf",
   "metadata": {},
   "outputs": [],
   "source": [
    "def last_day():\n",
    "    now = pd.Timestamp(first_day()) + pd.offsets.MonthBegin(1)\n",
    "    return now.strftime('%Y-%m-%d')"
   ]
  },
  {
   "cell_type": "code",
   "execution_count": 19,
   "id": "b31041e0-3c5a-479f-ae8c-aa0dd38f26bc",
   "metadata": {},
   "outputs": [],
   "source": [
    "between_dates_query = {\"date\":{\"$gte\": first_day(), \"$lt\": last_day()}}\n",
    "vote_count_pipline = [{ \"$addFields\": {\"vote_count\": { \"$size\": \"$votes\" } } }]\n",
    "reset_vote = [{\"$set\": {\"votes\": [], \"vote_count\": 0}}]\n",
    "# vote = [{\"$push\": {\"votes\": }}]\n",
    "find = {\"_id\": 0}\n",
    "find_titles = {\"title\": 1}\n",
    "find_books = { \"_id\": 0, \"date\": 0, \"votes\": 0}\n",
    "find_nice = { \"_id\": 0, \"votes\": 0}\n",
    "sort_books = [(\"vote_count\", -1), (\"date\", 1)] # first highest vote count then lowest date"
   ]
  },
  {
   "cell_type": "code",
   "execution_count": 20,
   "id": "5f431fe9-7b02-43d1-bafb-8914e4d84298",
   "metadata": {},
   "outputs": [],
   "source": [
    "class Collection:\n",
    "    def __init__(self, collection):\n",
    "        self.client = pymongo.MongoClient(\"mongodb://localhost:27017/\")\n",
    "        self.mydb = self.client[\"bookclub\"]\n",
    "        self.collection = self.mydb[collection]\n",
    "\n",
    "    def add(self, book):\n",
    "        self.collection.insert_one(book)\n",
    "    \n",
    "    def add_many(self, books):\n",
    "        self.collection.insert_many(books)\n",
    "    \n",
    "    def add_vote(self, title, username):\n",
    "        self.collection.update_one({\"title\": title}, [{\"$push\": {\"votes\": usermame}}])\n",
    "        \n",
    "    def add_votes(self, title, usernames):\n",
    "        self.collection.update_one({\"title\": title}, [{\"$push\": {\"votes\": {\"$each\": usermames}}}])\n",
    "\n",
    "    def delete(self, book):\n",
    "        self.collection.delete_one(book)\n",
    "\n",
    "    def count_votes(self):\n",
    "        self.collection.update_many({}, vote_count_pipline)\n",
    "        \n",
    "    def reset_votes(self):\n",
    "        self.collection.update_many({}, reset_vote)\n",
    "\n",
    "    def drop(self):\n",
    "        self.collection.drop()\n",
    "\n",
    "    def find_all(self, query, fields, sort):\n",
    "        for book in self.collection.find(query,fields).sort(sort):\n",
    "            yield book\n",
    "            \n",
    "    def find(self, query, fields, sort, total):\n",
    "        for book in self.collection.find(query,fields).sort(sort).limit(total):\n",
    "            yield book"
   ]
  },
  {
   "cell_type": "code",
   "execution_count": 23,
   "id": "2e8f3fbd-b045-4b43-89f6-c269fbaa94b7",
   "metadata": {},
   "outputs": [],
   "source": [
    "class Manager:\n",
    "    def __init__(self):\n",
    "        self.incomming = Collection(\"incomming\")\n",
    "        self.potential = Collection(\"potential\")\n",
    "        self.buffer = Collection(\"buffer\")\n",
    "        self.total = 3\n",
    "        self.book_of_month = \"\"\n",
    "    \n",
    "    def add_incomming(self, book):\n",
    "        self.incomming.add(book)\n",
    "\n",
    "    def top_incomming_books(self):\n",
    "        # there also needs to be a conditonal for counting how many books there need to be in order for a top to be established \n",
    "        # then send to potential. The minimum needs to be established based on the amount of people in the club times the book suggestion requirement \n",
    "        self.incomming.count_votes()\n",
    "        top_incomming = [book for book in self.incomming.find(between_dates_query, find_nice, sort_books, self.total)]\n",
    "        self.potential.add_many(top_incomming)\n",
    "\n",
    "    def potential_books(self):\n",
    "        self.potential.reset_votes()\n",
    "        random_book = np.random.choice([book for book in self.incomming.find_all({},{},[(\"date\", -1)])])\n",
    "        self.book_of_month = random_book\n",
    "        self.potential.delete(random_book)\n",
    "       \n",
    "    def potential_remove(self):\n",
    "        # this is also for generating tests > wil be moved to a dedicated testfile\n",
    "        self.potential.count_votes()\n",
    "        for book in self.find(between_dates_query, find_nice, sort_books, self.total):\n",
    "            self.buffer.add(book)\n",
    "            self.potential.delete(book)\n",
    "            \n",
    "    def drop_all(self):\n",
    "        self.incomming.drop()\n",
    "        self.potential.drop()\n",
    "        self.buffer.drop()"
   ]
  },
  {
   "cell_type": "code",
   "execution_count": null,
   "id": "f0290999-3c9f-46cb-b5a5-ec8ad6d7cfd7",
   "metadata": {},
   "outputs": [],
   "source": []
  }
 ],
 "metadata": {
  "kernelspec": {
   "display_name": "Python 3 (ipykernel)",
   "language": "python",
   "name": "python3"
  },
  "language_info": {
   "codemirror_mode": {
    "name": "ipython",
    "version": 3
   },
   "file_extension": ".py",
   "mimetype": "text/x-python",
   "name": "python",
   "nbconvert_exporter": "python",
   "pygments_lexer": "ipython3",
   "version": "3.10.6"
  }
 },
 "nbformat": 4,
 "nbformat_minor": 5
}
