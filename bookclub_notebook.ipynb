{
 "cells": [
  {
   "cell_type": "code",
   "execution_count": 1,
   "id": "886d11d8-ab2c-4413-9fa2-a4303e0a7c71",
   "metadata": {},
   "outputs": [],
   "source": [
    "import pandas as pd\n",
    "import numpy as np\n",
    "import pymongo\n",
    "from pprint import pprint\n",
    "import bookclub_test_data as td"
   ]
  },
  {
   "cell_type": "code",
   "execution_count": 2,
   "id": "270c2966-cf3a-4944-8ea6-8a9ae7fec319",
   "metadata": {},
   "outputs": [],
   "source": [
    "def first_day():\n",
    "    now = pd.Timestamp.now() - pd.offsets.MonthBegin(1)\n",
    "    return now.strftime('%Y-%m-%d')"
   ]
  },
  {
   "cell_type": "code",
   "execution_count": 3,
   "id": "32a2a257-1b7f-4a66-ad47-6290674ee3bf",
   "metadata": {},
   "outputs": [],
   "source": [
    "def last_day():\n",
    "    now = pd.Timestamp(first_day()) + pd.offsets.MonthBegin(1)\n",
    "    return now.strftime('%Y-%m-%d')"
   ]
  },
  {
   "cell_type": "code",
   "execution_count": 4,
   "id": "b31041e0-3c5a-479f-ae8c-aa0dd38f26bc",
   "metadata": {},
   "outputs": [],
   "source": [
    "between_dates_query = {\"date\":{\"$gte\": first_day(), \"$lt\": last_day()}}\n",
    "vote_count_pipline = [{ \"$addFields\": {\"vote_count\": { \"$size\": \"$votes\" } } }]\n",
    "reset_vote = [{\"$set\": {\"votes\": [], \"vote_count\": 0}}]\n",
    "# vote = [{\"$push\": {\"votes\": }}]\n",
    "find = {\"_id\": 0}\n",
    "find_titles = {\"title\": 1}\n",
    "find_books = { \"_id\": 0, \"date\": 0, \"votes\": 0}\n",
    "find_nice = { \"_id\": 0, \"votes\": 0}\n",
    "sort_books = [(\"vote_count\", -1), (\"date\", 1)] # first highest vote count then lowest date"
   ]
  },
  {
   "cell_type": "code",
   "execution_count": 5,
   "id": "5f431fe9-7b02-43d1-bafb-8914e4d84298",
   "metadata": {},
   "outputs": [],
   "source": [
    "class Collection:\n",
    "    def __init__(self, collection):\n",
    "        self.client = pymongo.MongoClient(\"mongodb://localhost:27017/\")\n",
    "        self.mydb = self.client[\"bookclub\"]\n",
    "        self.collection = self.mydb[collection]\n",
    "\n",
    "    def add(self, book):\n",
    "        self.collection.insert_one(book)\n",
    "    \n",
    "    def add_many(self, books):\n",
    "        self.collection.insert_many(books)\n",
    "    \n",
    "    def add_vote(self, title, username):\n",
    "        self.collection.update_one({\"title\": title}, [{\"$push\": {\"votes\": usermame}}])\n",
    "        \n",
    "    def add_votes(self, title, usernames):\n",
    "        self.collection.update_one({\"title\": title}, [{\"$push\": {\"votes\": {\"$each\": usermames}}}])\n",
    "\n",
    "    def delete(self, book):\n",
    "        self.collection.delete_one(book)\n",
    "\n",
    "    def count_votes(self):\n",
    "        self.collection.update_many({}, vote_count_pipline)\n",
    "        \n",
    "    def reset_votes(self):\n",
    "        self.collection.update_many({}, reset_vote)\n",
    "\n",
    "    def drop(self):\n",
    "        self.collection.drop()\n",
    "\n",
    "    def find_all(self, query, fields, sort):\n",
    "        for book in self.collection.find(query,fields).sort(sort):\n",
    "            yield book\n",
    "            \n",
    "    def find(self, query, fields, sort, total):\n",
    "        for book in self.collection.find(query,fields).sort(sort).limit(total):\n",
    "            yield book"
   ]
  },
  {
   "cell_type": "code",
   "execution_count": 6,
   "id": "fdb4b83a-f228-4c91-b809-34da29b9a740",
   "metadata": {},
   "outputs": [],
   "source": [
    "incomming = Collection(\"incomming\")"
   ]
  },
  {
   "cell_type": "code",
   "execution_count": 7,
   "id": "004eef5e-83a4-42ba-8906-7f0f89edb3f8",
   "metadata": {},
   "outputs": [],
   "source": [
    "results = incomming.find_all({},{},[(\"date\", -1)])"
   ]
  },
  {
   "cell_type": "code",
   "execution_count": 8,
   "id": "0b5f66ae-dc54-4ed5-8356-caddd234fcd5",
   "metadata": {},
   "outputs": [],
   "source": [
    "# pprint([result for result in results])"
   ]
  },
  {
   "cell_type": "code",
   "execution_count": 27,
   "id": "2e8f3fbd-b045-4b43-89f6-c269fbaa94b7",
   "metadata": {},
   "outputs": [],
   "source": [
    "class Manager:\n",
    "    def __init__(self):\n",
    "        self.incomming = Collection(\"incomming\")\n",
    "        self.potential = Collection(\"potential\")\n",
    "        self.buffer = Collection(\"buffer\")\n",
    "        self.total = 3\n",
    "        self.book_of_month = \"\"\n",
    "    \n",
    "    def incomming_books(self, books):\n",
    "        self.incomming.add_many(books)\n",
    "        self.incomming.count_votes()\n",
    "        return [book for book in self.incomming.find(between_dates_query, find_nice, sort_books, self.total)]\n",
    "    \n",
    "    def potential_books(self, books):\n",
    "        self.potential.add_many(books)\n",
    "        self.potential.reset_votes()\n",
    "        random_book = np.random.choice([book for book in self.incomming.find_all({},{},[(\"date\", -1)])])\n",
    "        self.book_of_month = random_book\n",
    "        self.potential.delete(random_book)\n",
    "        return self.book_of_month\n",
    "       \n",
    "    def potential_remove(self):\n",
    "        # this is also for generating tests > wil be moved to a dedicated testfile\n",
    "        for title in self.potential.find_all({}, find_titles, sort_books):\n",
    "            self.potential.add_votes(title[\"title\"], td.generate_title_votes(1))\n",
    "        self.potential.count_votes()\n",
    "        for book in self.find(between_dates_query, find_nice, sort_books, self.total):\n",
    "            self.buffer.add(book)\n",
    "            self.potential.delete(book)\n",
    "            \n",
    "    def drop_all(self):\n",
    "        bookclub.incomming.drop()\n",
    "        bookclub.potential.drop()\n",
    "        bookclub.buffer.drop()"
   ]
  },
  {
   "cell_type": "code",
   "execution_count": 28,
   "id": "d3d561ac-a1a3-4b80-8e2b-bd5b335a9ae9",
   "metadata": {},
   "outputs": [],
   "source": [
    "bookclub = Manager()"
   ]
  },
  {
   "cell_type": "code",
   "execution_count": 29,
   "id": "017252a9-763f-40a4-9645-aa8b95fb121c",
   "metadata": {},
   "outputs": [],
   "source": [
    "books = td.generate_books(10, 1)\n",
    "top_incomming = bookclub.incomming_books(books)"
   ]
  },
  {
   "cell_type": "code",
   "execution_count": 30,
   "id": "c01c0923-75bc-45e7-acd7-9b520c7e152f",
   "metadata": {},
   "outputs": [
    {
     "data": {
      "text/plain": [
       "{'_id': ObjectId('63c33fa19f340ce701cd82c6'),\n",
       " 'title': 'title-1',\n",
       " 'author': 'author-1',\n",
       " 'pages': 234,\n",
       " 'user': 'user-1',\n",
       " 'votes': [],\n",
       " 'date': '2023-01-25',\n",
       " 'vote_count': 0}"
      ]
     },
     "execution_count": 30,
     "metadata": {},
     "output_type": "execute_result"
    }
   ],
   "source": [
    "bookclub.potential_books(top_incomming)"
   ]
  },
  {
   "cell_type": "code",
   "execution_count": 31,
   "id": "b5e9f669-78ca-48d5-b6fd-0eb38b379382",
   "metadata": {},
   "outputs": [
    {
     "name": "stdout",
     "output_type": "stream",
     "text": [
      "{'_id': ObjectId('63c33fa19f340ce701cd82c5'), 'title': 'title-0', 'author': 'author-0', 'pages': 321, 'user': 'user-0', 'votes': ['user-0'], 'date': '2023-01-04', 'vote_count': 1}\n",
      "{'_id': ObjectId('63c33fa19f340ce701cd82c6'), 'title': 'title-1', 'author': 'author-1', 'pages': 234, 'user': 'user-1', 'votes': [], 'date': '2023-01-25', 'vote_count': 0}\n",
      "{'_id': ObjectId('63c33fa19f340ce701cd82c7'), 'title': 'title-2', 'author': 'author-2', 'pages': 419, 'user': 'user-2', 'votes': ['user-7', 'user-3'], 'date': '2023-01-10', 'vote_count': 2}\n",
      "{'_id': ObjectId('63c33fa19f340ce701cd82c8'), 'title': 'title-3', 'author': 'author-3', 'pages': 331, 'user': 'user-3', 'votes': ['user-8', 'user-2'], 'date': '2023-01-23', 'vote_count': 2}\n",
      "{'_id': ObjectId('63c33fa19f340ce701cd82c9'), 'title': 'title-4', 'author': 'author-4', 'pages': 428, 'user': 'user-4', 'votes': ['user-7', 'user-0', 'user-0'], 'date': '2023-01-14', 'vote_count': 3}\n",
      "{'_id': ObjectId('63c33fa19f340ce701cd82ca'), 'title': 'title-5', 'author': 'author-5', 'pages': 143, 'user': 'user-5', 'votes': ['user-7', 'user-7', 'user-9'], 'date': '2023-01-01', 'vote_count': 3}\n",
      "{'_id': ObjectId('63c33fa19f340ce701cd82cb'), 'title': 'title-6', 'author': 'author-6', 'pages': 268, 'user': 'user-6', 'votes': ['user-8', 'user-8'], 'date': '2023-01-27', 'vote_count': 2}\n",
      "{'_id': ObjectId('63c33fa19f340ce701cd82cc'), 'title': 'title-7', 'author': 'author-7', 'pages': 391, 'user': 'user-7', 'votes': ['user-2'], 'date': '2023-01-23', 'vote_count': 1}\n",
      "{'_id': ObjectId('63c33fa19f340ce701cd82cd'), 'title': 'title-8', 'author': 'author-8', 'pages': 173, 'user': 'user-8', 'votes': ['user-0', 'user-5'], 'date': '2023-01-10', 'vote_count': 2}\n",
      "{'_id': ObjectId('63c33fa19f340ce701cd82ce'), 'title': 'title-9', 'author': 'author-9', 'pages': 211, 'user': 'user-9', 'votes': [], 'date': '2023-01-31', 'vote_count': 0}\n"
     ]
    }
   ],
   "source": [
    "for x in bookclub.incomming.collection.find({}):\n",
    "    print(x)"
   ]
  },
  {
   "cell_type": "code",
   "execution_count": 32,
   "id": "b16ab93a-6abd-46a5-a3d4-e52193e30f80",
   "metadata": {},
   "outputs": [
    {
     "name": "stdout",
     "output_type": "stream",
     "text": [
      "{'_id': ObjectId('63c33fa19f340ce701cd82cf'), 'title': 'title-5', 'author': 'author-5', 'pages': 143, 'user': 'user-5', 'date': '2023-01-01', 'vote_count': 0, 'votes': []}\n",
      "{'_id': ObjectId('63c33fa19f340ce701cd82d0'), 'title': 'title-4', 'author': 'author-4', 'pages': 428, 'user': 'user-4', 'date': '2023-01-14', 'vote_count': 0, 'votes': []}\n",
      "{'_id': ObjectId('63c33fa19f340ce701cd82d1'), 'title': 'title-2', 'author': 'author-2', 'pages': 419, 'user': 'user-2', 'date': '2023-01-10', 'vote_count': 0, 'votes': []}\n"
     ]
    }
   ],
   "source": [
    "for x in bookclub.potential.collection.find({}):\n",
    "    print(x)"
   ]
  },
  {
   "cell_type": "code",
   "execution_count": 33,
   "id": "0d5ce56e-9963-4fd1-8f12-8cf9f35c32c2",
   "metadata": {},
   "outputs": [],
   "source": [
    "for x in bookclub.buffer.collection.find({}):\n",
    "    print(x)"
   ]
  },
  {
   "cell_type": "code",
   "execution_count": null,
   "id": "a564e101-3f79-4b45-87fe-7bdaea050dea",
   "metadata": {},
   "outputs": [],
   "source": []
  },
  {
   "cell_type": "code",
   "execution_count": 34,
   "id": "e7cbd7c3-3f4c-4515-a9fc-84693c26c490",
   "metadata": {},
   "outputs": [
    {
     "data": {
      "text/plain": [
       "{'_id': ObjectId('63c33fa19f340ce701cd82c6'),\n",
       " 'title': 'title-1',\n",
       " 'author': 'author-1',\n",
       " 'pages': 234,\n",
       " 'user': 'user-1',\n",
       " 'votes': [],\n",
       " 'date': '2023-01-25',\n",
       " 'vote_count': 0}"
      ]
     },
     "execution_count": 34,
     "metadata": {},
     "output_type": "execute_result"
    }
   ],
   "source": [
    "bookclub.book_of_month"
   ]
  },
  {
   "cell_type": "code",
   "execution_count": 26,
   "id": "495d20ac-327b-4938-a983-b443a137a22e",
   "metadata": {},
   "outputs": [],
   "source": [
    "bookclub.drop_all()"
   ]
  },
  {
   "cell_type": "code",
   "execution_count": null,
   "id": "7e350222-acae-450d-ac45-97cfc7193cd3",
   "metadata": {},
   "outputs": [],
   "source": []
  }
 ],
 "metadata": {
  "kernelspec": {
   "display_name": "Python 3 (ipykernel)",
   "language": "python",
   "name": "python3"
  },
  "language_info": {
   "codemirror_mode": {
    "name": "ipython",
    "version": 3
   },
   "file_extension": ".py",
   "mimetype": "text/x-python",
   "name": "python",
   "nbconvert_exporter": "python",
   "pygments_lexer": "ipython3",
   "version": "3.10.6"
  }
 },
 "nbformat": 4,
 "nbformat_minor": 5
}
